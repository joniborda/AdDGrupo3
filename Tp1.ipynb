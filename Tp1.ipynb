{
 "cells": [
  {
   "cell_type": "markdown",
   "id": "75fd53bd",
   "metadata": {},
   "source": [
    "Leemos los archivos csv"
   ]
  },
  {
   "cell_type": "code",
   "execution_count": 4,
   "id": "09bd4ab6",
   "metadata": {},
   "outputs": [
    {
     "name": "stdout",
     "output_type": "stream",
     "text": [
      "      id                                              name   host_id  \\\n",
      "0  11508                Amazing Luxurious Apt-Palermo Soho     42762   \n",
      "1  14222      RELAX IN HAPPY HOUSE - PALERMO, BUENOS AIRES  87710233   \n",
      "2  15074                             ROOM WITH RIVER SIGHT     59338   \n",
      "3  16695                         DUPLEX LOFT 2 - SAN TELMO     64880   \n",
      "4  20062  PENTHOUSE /Terrace & pool /City views /2bedrooms     75891   \n",
      "\n",
      "       host_name  neighbourhood_group neighbourhood   latitude  longitude  \\\n",
      "0        Candela                  NaN       Palermo -34.581840 -58.424150   \n",
      "1          María                  NaN       Palermo -34.586170 -58.410360   \n",
      "2         Monica                  NaN         Nuñez -34.538920 -58.465990   \n",
      "3  Elbio Mariano                  NaN     Monserrat -34.614390 -58.376110   \n",
      "4         Sergio                  NaN       Palermo -34.581848 -58.441605   \n",
      "\n",
      "         room_type     price  minimum_nights  number_of_reviews last_review  \\\n",
      "0  Entire home/apt   67518.0               3                 44  2025-01-26   \n",
      "1  Entire home/apt   22375.0               7                123  2025-01-18   \n",
      "2     Private room       NaN              29                  0         NaN   \n",
      "3  Entire home/apt   52511.0               2                 45  2019-11-30   \n",
      "4  Entire home/apt  113360.0               2                330  2025-01-17   \n",
      "\n",
      "   reviews_per_month  calculated_host_listings_count  availability_365  \\\n",
      "0               0.29                               1               300   \n",
      "1               0.80                               6                44   \n",
      "2                NaN                               1                 0   \n",
      "3               0.27                               9               365   \n",
      "4               1.84                               4               209   \n",
      "\n",
      "   number_of_reviews_ltm license  \n",
      "0                      5     NaN  \n",
      "1                      8     NaN  \n",
      "2                      0     NaN  \n",
      "3                      0     NaN  \n",
      "4                     25     NaN  \n"
     ]
    }
   ],
   "source": [
    "import pandas as pd\n",
    "\n",
    "listings = pd.read_csv('listings.csv')\n",
    "reviews = pd.read_csv('reviews.csv')\n",
    "# calendar = pd.read_csv('calendar.csv')\n",
    "neighborhoods = pd.read_csv('neighbourhoods.csv')\n",
    "\n",
    "# Exploramos los datos\n",
    "print(listings.head())\n",
    "\n",
    "\n",
    "\n",
    "\n"
   ]
  },
  {
   "cell_type": "code",
   "execution_count": 5,
   "id": "37eae732",
   "metadata": {},
   "outputs": [
    {
     "name": "stdout",
     "output_type": "stream",
     "text": [
      "   listing_id        date\n",
      "0       11508  2012-07-02\n",
      "1       11508  2012-12-26\n",
      "2       11508  2013-01-05\n",
      "3       11508  2013-07-28\n",
      "4       11508  2013-12-22\n"
     ]
    }
   ],
   "source": [
    "print(reviews.head())\n"
   ]
  },
  {
   "cell_type": "code",
   "execution_count": 6,
   "id": "da18454e",
   "metadata": {},
   "outputs": [
    {
     "name": "stdout",
     "output_type": "stream",
     "text": [
      "   neighbourhood_group neighbourhood\n",
      "0                  NaN     Agronomia\n",
      "1                  NaN       Almagro\n",
      "2                  NaN     Balvanera\n",
      "3                  NaN      Barracas\n",
      "4                  NaN      Belgrano\n"
     ]
    }
   ],
   "source": [
    "# print(calendar.head())\n",
    "print(neighborhoods.head())"
   ]
  }
 ],
 "metadata": {
  "kernelspec": {
   "display_name": "ia_env",
   "language": "python",
   "name": "python3"
  },
  "language_info": {
   "codemirror_mode": {
    "name": "ipython",
    "version": 3
   },
   "file_extension": ".py",
   "mimetype": "text/x-python",
   "name": "python",
   "nbconvert_exporter": "python",
   "pygments_lexer": "ipython3",
   "version": "3.12.10"
  }
 },
 "nbformat": 4,
 "nbformat_minor": 5
}
