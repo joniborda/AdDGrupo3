{
 "cells": [
  {
   "cell_type": "markdown",
   "id": "75fd53bd",
   "metadata": {},
   "source": [
    "Leemos los archivos csv"
   ]
  },
  {
   "cell_type": "code",
   "execution_count": 12,
   "id": "09bd4ab6",
   "metadata": {},
   "outputs": [],
   "source": [
    "import pandas as pd\n",
    "\n",
    "listings = pd.read_csv('listings.csv')\n",
    "reviews = pd.read_csv('reviews.csv')\n",
    "# calendar = pd.read_csv('calendar.csv')\n",
    "neighborhoods = pd.read_csv('neighbourhoods.csv')\n",
    "\n",
    "# Este dataset lo tomamos de la pagina de Inside Airbnb porque es demasiado grande para subirlo a GitHub\n",
    "data_base_url = \"https://data.insideairbnb.com/argentina/ciudad-aut%C3%B3noma-de-buenos-aires/buenos-aires/2025-01-29/data/\"\n",
    "raw_calendar = pd.read_csv(data_base_url + \"calendar.csv\")"
   ]
  },
  {
   "cell_type": "code",
   "execution_count": 6,
   "id": "37eae732",
   "metadata": {},
   "outputs": [
    {
     "name": "stdout",
     "output_type": "stream",
     "text": [
      "reviews\n",
      "   listing_id        date\n",
      "0       11508  2012-07-02\n",
      "1       11508  2012-12-26\n",
      "2       11508  2013-01-05\n",
      "3       11508  2013-07-28\n",
      "4       11508  2013-12-22\n"
     ]
    }
   ],
   "source": [
    "print(\"reviews\")\n",
    "print(reviews.head())"
   ]
  },
  {
   "cell_type": "code",
   "execution_count": 7,
   "id": "da18454e",
   "metadata": {},
   "outputs": [
    {
     "name": "stdout",
     "output_type": "stream",
     "text": [
      "neighborhoods\n",
      "   neighbourhood_group neighbourhood\n",
      "0                  NaN     Agronomia\n",
      "1                  NaN       Almagro\n",
      "2                  NaN     Balvanera\n",
      "3                  NaN      Barracas\n",
      "4                  NaN      Belgrano\n"
     ]
    }
   ],
   "source": [
    "print(\"neighborhoods\")\n",
    "print(neighborhoods.head())"
   ]
  },
  {
   "cell_type": "code",
   "execution_count": 13,
   "id": "1365550a",
   "metadata": {},
   "outputs": [
    {
     "name": "stdout",
     "output_type": "stream",
     "text": [
      "Primeros registros de calendar.csv:\n",
      "   listing_id        date available   price  adjusted_price  minimum_nights  \\\n",
      "0       11508  2025-01-30         f  $60.00             NaN             3.0   \n",
      "1       11508  2025-01-31         f  $60.00             NaN             3.0   \n",
      "2       11508  2025-02-01         f  $60.00             NaN             3.0   \n",
      "3       11508  2025-02-02         f  $60.00             NaN             3.0   \n",
      "4       11508  2025-02-03         f  $60.00             NaN             3.0   \n",
      "\n",
      "   maximum_nights  \n",
      "0          1125.0  \n",
      "1          1125.0  \n",
      "2          1125.0  \n",
      "3          1125.0  \n",
      "4          1125.0  \n",
      "<class 'pandas.core.frame.DataFrame'>\n",
      "RangeIndex: 12837777 entries, 0 to 12837776\n",
      "Data columns (total 7 columns):\n",
      " #   Column          Dtype  \n",
      "---  ------          -----  \n",
      " 0   listing_id      int64  \n",
      " 1   date            object \n",
      " 2   available       object \n",
      " 3   price           object \n",
      " 4   adjusted_price  float64\n",
      " 5   minimum_nights  float64\n",
      " 6   maximum_nights  float64\n",
      "dtypes: float64(3), int64(1), object(3)\n",
      "memory usage: 685.6+ MB\n",
      "None\n"
     ]
    }
   ],
   "source": [
    "\n",
    "print(\"Primeros registros de calendar.csv:\")\n",
    "calendar = raw_calendar.copy()\n",
    "print(calendar.head())\n",
    "print(calendar.info())"
   ]
  },
  {
   "cell_type": "code",
   "execution_count": 16,
   "id": "afe66ece",
   "metadata": {},
   "outputs": [],
   "source": [
    "# Extraemos el símbolo '$' a una nueva columna y convertimos el precio a float\n",
    "# Extract currency symbol if present, otherwise set to None\n",
    "calendar['currency_symbol'] = raw_calendar['price'].str.extract(r'(\\$|€|£)')\n",
    "\n",
    "# Clean and convert price, handling different formats\n",
    "calendar['price'] = raw_calendar['price'].str.replace(r'[$€£]', '', regex=True) \\\n",
    "                                   .str.replace(',', '') \\\n",
    "                                   .replace('', '0') \\\n",
    "                                   .astype(float)\n",
    "\n",
    "# Paso el formato de date a date\n",
    "calendar['date'] = pd.to_datetime(calendar['date'])\n"
   ]
  },
  {
   "cell_type": "code",
   "execution_count": 17,
   "id": "9d5ad019",
   "metadata": {},
   "outputs": [
    {
     "name": "stdout",
     "output_type": "stream",
     "text": [
      "Primeros registros de calendar.csv luego de la transformación:\n",
      "   listing_id       date available  price  adjusted_price  minimum_nights  \\\n",
      "0       11508 2025-01-30         f   60.0             NaN             3.0   \n",
      "1       11508 2025-01-31         f   60.0             NaN             3.0   \n",
      "2       11508 2025-02-01         f   60.0             NaN             3.0   \n",
      "3       11508 2025-02-02         f   60.0             NaN             3.0   \n",
      "4       11508 2025-02-03         f   60.0             NaN             3.0   \n",
      "\n",
      "   maximum_nights currency_symbol  \n",
      "0          1125.0               $  \n",
      "1          1125.0               $  \n",
      "2          1125.0               $  \n",
      "3          1125.0               $  \n",
      "4          1125.0               $  \n",
      "-------------------------------- INFO --------------------------------\n",
      "<class 'pandas.core.frame.DataFrame'>\n",
      "RangeIndex: 12837777 entries, 0 to 12837776\n",
      "Data columns (total 8 columns):\n",
      " #   Column           Dtype         \n",
      "---  ------           -----         \n",
      " 0   listing_id       int64         \n",
      " 1   date             datetime64[ns]\n",
      " 2   available        object        \n",
      " 3   price            float64       \n",
      " 4   adjusted_price   float64       \n",
      " 5   minimum_nights   float64       \n",
      " 6   maximum_nights   float64       \n",
      " 7   currency_symbol  object        \n",
      "dtypes: datetime64[ns](1), float64(4), int64(1), object(2)\n",
      "memory usage: 783.6+ MB\n",
      "None\n",
      "-------------------------------- DESCRIBE --------------------------------\n",
      "         listing_id                           date         price  \\\n",
      "count  1.283778e+07                       12837777  1.283778e+07   \n",
      "mean   7.117867e+17  2025-07-30 18:34:53.908877056  1.444410e+03   \n",
      "min    1.150800e+04            2025-01-29 00:00:00  0.000000e+00   \n",
      "25%    4.719456e+07            2025-05-01 00:00:00  3.000000e+01   \n",
      "50%    8.875646e+17            2025-07-31 00:00:00  4.000000e+01   \n",
      "75%    1.095203e+18            2025-10-30 00:00:00  6.100000e+01   \n",
      "max    1.344330e+18            2026-02-01 00:00:00  4.500000e+06   \n",
      "std    4.840909e+17                            NaN  3.174754e+04   \n",
      "\n",
      "       adjusted_price  minimum_nights  maximum_nights  \n",
      "count             0.0    1.283776e+07    1.283776e+07  \n",
      "mean              NaN    6.025412e+00    6.112193e+02  \n",
      "min               NaN    1.000000e+00    1.000000e+00  \n",
      "25%               NaN    2.000000e+00    3.650000e+02  \n",
      "50%               NaN    2.000000e+00    3.650000e+02  \n",
      "75%               NaN    4.000000e+00    1.125000e+03  \n",
      "max               NaN    1.000000e+03    1.825000e+03  \n",
      "std               NaN    2.418471e+01    4.453138e+02  \n"
     ]
    }
   ],
   "source": [
    "\n",
    "print(\"Primeros registros de calendar.csv luego de la transformación:\")\n",
    "print(calendar.head())\n",
    "print(\"-------------------------------- INFO --------------------------------\")\n",
    "print(calendar.info())\n",
    "print(\"-------------------------------- DESCRIBE --------------------------------\")\n",
    "print(calendar.describe())"
   ]
  },
  {
   "cell_type": "code",
   "execution_count": null,
   "id": "c29ca6fc",
   "metadata": {},
   "outputs": [
    {
     "name": "stdout",
     "output_type": "stream",
     "text": [
      "Valores únicos de price:\n",
      "78758112\n",
      "102702216\n"
     ]
    }
   ],
   "source": [
    "# Mostramos los valores únicos de price ordenados\n",
    "print(\"Valores únicos de price:\")\n",
    "# print(calendar['price'].sort_values().head(200000).tail(200))\n",
    "print(calendar[calendar['price'] >= 30].size)\n",
    "print(calendar.size)"
   ]
  }
 ],
 "metadata": {
  "kernelspec": {
   "display_name": "ia_env",
   "language": "python",
   "name": "python3"
  },
  "language_info": {
   "codemirror_mode": {
    "name": "ipython",
    "version": 3
   },
   "file_extension": ".py",
   "mimetype": "text/x-python",
   "name": "python",
   "nbconvert_exporter": "python",
   "pygments_lexer": "ipython3",
   "version": "3.12.10"
  }
 },
 "nbformat": 4,
 "nbformat_minor": 5
}
