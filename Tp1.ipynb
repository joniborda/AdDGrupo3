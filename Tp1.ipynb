{
 "cells": [
  {
   "cell_type": "markdown",
   "id": "75fd53bd",
   "metadata": {},
   "source": [
    "Leemos los archivos csv"
   ]
  },
  {
   "cell_type": "code",
   "execution_count": 12,
   "id": "09bd4ab6",
   "metadata": {},
   "outputs": [],
   "source": [
    "import pandas as pd\n",
    "\n",
    "listings = pd.read_csv('listings.csv')\n",
    "reviews = pd.read_csv('reviews.csv')\n",
    "# calendar = pd.read_csv('calendar.csv')\n",
    "neighborhoods = pd.read_csv('neighbourhoods.csv')\n",
    "\n",
    "# Este dataset lo tomamos de la pagina de Inside Airbnb porque es demasiado grande para subirlo a GitHub\n",
    "data_base_url = \"https://data.insideairbnb.com/argentina/ciudad-aut%C3%B3noma-de-buenos-aires/buenos-aires/2025-01-29/data/\"\n",
    "raw_calendar = pd.read_csv(data_base_url + \"calendar.csv\")"
   ]
  },
  {
   "cell_type": "code",
   "execution_count": 6,
   "id": "37eae732",
   "metadata": {},
   "outputs": [
    {
     "name": "stdout",
     "output_type": "stream",
     "text": [
      "reviews\n",
      "   listing_id        date\n",
      "0       11508  2012-07-02\n",
      "1       11508  2012-12-26\n",
      "2       11508  2013-01-05\n",
      "3       11508  2013-07-28\n",
      "4       11508  2013-12-22\n"
     ]
    }
   ],
   "source": [
    "print(\"reviews\")\n",
    "print(reviews.head())"
   ]
  },
  {
   "cell_type": "code",
   "execution_count": 7,
   "id": "da18454e",
   "metadata": {},
   "outputs": [
    {
     "name": "stdout",
     "output_type": "stream",
     "text": [
      "neighborhoods\n",
      "   neighbourhood_group neighbourhood\n",
      "0                  NaN     Agronomia\n",
      "1                  NaN       Almagro\n",
      "2                  NaN     Balvanera\n",
      "3                  NaN      Barracas\n",
      "4                  NaN      Belgrano\n"
     ]
    }
   ],
   "source": [
    "print(\"neighborhoods\")\n",
    "print(neighborhoods.head())"
   ]
  },
  {
   "cell_type": "code",
   "execution_count": 13,
   "id": "1365550a",
   "metadata": {},
   "outputs": [
    {
     "name": "stdout",
     "output_type": "stream",
     "text": [
      "Primeros registros de calendar.csv:\n",
      "   listing_id        date available   price  adjusted_price  minimum_nights  \\\n",
      "0       11508  2025-01-30         f  $60.00             NaN             3.0   \n",
      "1       11508  2025-01-31         f  $60.00             NaN             3.0   \n",
      "2       11508  2025-02-01         f  $60.00             NaN             3.0   \n",
      "3       11508  2025-02-02         f  $60.00             NaN             3.0   \n",
      "4       11508  2025-02-03         f  $60.00             NaN             3.0   \n",
      "\n",
      "   maximum_nights  \n",
      "0          1125.0  \n",
      "1          1125.0  \n",
      "2          1125.0  \n",
      "3          1125.0  \n",
      "4          1125.0  \n",
      "<class 'pandas.core.frame.DataFrame'>\n",
      "RangeIndex: 12837777 entries, 0 to 12837776\n",
      "Data columns (total 7 columns):\n",
      " #   Column          Dtype  \n",
      "---  ------          -----  \n",
      " 0   listing_id      int64  \n",
      " 1   date            object \n",
      " 2   available       object \n",
      " 3   price           object \n",
      " 4   adjusted_price  float64\n",
      " 5   minimum_nights  float64\n",
      " 6   maximum_nights  float64\n",
      "dtypes: float64(3), int64(1), object(3)\n",
      "memory usage: 685.6+ MB\n",
      "None\n"
     ]
    }
   ],
   "source": [
    "\n",
    "print(\"Primeros registros de calendar.csv:\")\n",
    "calendar = raw_calendar.copy()\n",
    "print(calendar.head())\n",
    "print(calendar.info())"
   ]
  },
  {
   "cell_type": "code",
   "execution_count": 16,
   "id": "afe66ece",
   "metadata": {},
   "outputs": [],
   "source": [
    "# Extraemos el símbolo '$' a una nueva columna y convertimos el precio a float\n",
    "# Extract currency symbol if present, otherwise set to None\n",
    "calendar['currency_symbol'] = raw_calendar['price'].str.extract(r'(\\$|€|£)')\n",
    "\n",
    "# Clean and convert price, handling different formats\n",
    "calendar['price'] = raw_calendar['price'].str.replace(r'[$€£]', '', regex=True) \\\n",
    "                                   .str.replace(',', '') \\\n",
    "                                   .replace('', '0') \\\n",
    "                                   .astype(float)\n",
    "\n",
    "# Paso el formato de date a date\n",
    "calendar['date'] = pd.to_datetime(calendar['date'])\n"
   ]
  },
  {
   "cell_type": "code",
   "execution_count": null,
   "id": "9d5ad019",
   "metadata": {},
   "outputs": [],
   "source": [
    "\n",
    "print(\"Primeros registros de calendar.csv luego de la transformación:\")\n",
    "print(calendar.head())\n",
    "print(\"-------------------------------- INFO --------------------------------\")\n",
    "print(calendar.info())\n",
    "print(\"-------------------------------- DESCRIBE --------------------------------\")\n",
    "print(calendar.describe())"
   ]
  },
  {
   "cell_type": "code",
   "execution_count": null,
   "id": "c29ca6fc",
   "metadata": {},
   "outputs": [
    {
     "name": "stdout",
     "output_type": "stream",
     "text": [
      "Valores únicos de price:\n",
      "78758112\n",
      "102702216\n"
     ]
    }
   ],
   "source": [
    "# Mostramos los valores únicos de price ordenados\n",
    "print(\"Valores únicos de price:\")\n",
    "# print(calendar['price'].sort_values().head(200000).tail(200))\n",
    "print(calendar[calendar['price'] >= 30].size)\n",
    "print(calendar.size)"
   ]
  }
 ],
 "metadata": {
  "kernelspec": {
   "display_name": "ia_env",
   "language": "python",
   "name": "python3"
  },
  "language_info": {
   "codemirror_mode": {
    "name": "ipython",
    "version": 3
   },
   "file_extension": ".py",
   "mimetype": "text/x-python",
   "name": "python",
   "nbconvert_exporter": "python",
   "pygments_lexer": "ipython3",
   "version": "3.12.10"
  }
 },
 "nbformat": 4,
 "nbformat_minor": 5
}
