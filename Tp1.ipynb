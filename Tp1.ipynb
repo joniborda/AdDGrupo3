{
 "cells": [
  {
   "cell_type": "markdown",
   "id": "75fd53bd",
   "metadata": {},
   "source": [
    "Leemos los archivos csv"
   ]
  },
  {
   "cell_type": "code",
   "execution_count": 3,
   "id": "09bd4ab6",
   "metadata": {},
   "outputs": [
    {
     "name": "stdout",
     "output_type": "stream",
     "text": [
      "listings\n",
      "      id                                              name   host_id  \\\n",
      "0  11508                Amazing Luxurious Apt-Palermo Soho     42762   \n",
      "1  14222      RELAX IN HAPPY HOUSE - PALERMO, BUENOS AIRES  87710233   \n",
      "2  15074                             ROOM WITH RIVER SIGHT     59338   \n",
      "3  16695                         DUPLEX LOFT 2 - SAN TELMO     64880   \n",
      "4  20062  PENTHOUSE /Terrace & pool /City views /2bedrooms     75891   \n",
      "\n",
      "       host_name  neighbourhood_group neighbourhood   latitude  longitude  \\\n",
      "0        Candela                  NaN       Palermo -34.581840 -58.424150   \n",
      "1          María                  NaN       Palermo -34.586170 -58.410360   \n",
      "2         Monica                  NaN         Nuñez -34.538920 -58.465990   \n",
      "3  Elbio Mariano                  NaN     Monserrat -34.614390 -58.376110   \n",
      "4         Sergio                  NaN       Palermo -34.581848 -58.441605   \n",
      "\n",
      "         room_type     price  minimum_nights  number_of_reviews last_review  \\\n",
      "0  Entire home/apt   67518.0               3                 44  2025-01-26   \n",
      "1  Entire home/apt   22375.0               7                123  2025-01-18   \n",
      "2     Private room       NaN              29                  0         NaN   \n",
      "3  Entire home/apt   52511.0               2                 45  2019-11-30   \n",
      "4  Entire home/apt  113360.0               2                330  2025-01-17   \n",
      "\n",
      "   reviews_per_month  calculated_host_listings_count  availability_365  \\\n",
      "0               0.29                               1               300   \n",
      "1               0.80                               6                44   \n",
      "2                NaN                               1                 0   \n",
      "3               0.27                               9               365   \n",
      "4               1.84                               4               209   \n",
      "\n",
      "   number_of_reviews_ltm license  \n",
      "0                      5     NaN  \n",
      "1                      8     NaN  \n",
      "2                      0     NaN  \n",
      "3                      0     NaN  \n",
      "4                     25     NaN  \n"
     ]
    }
   ],
   "source": [
    "import pandas as pd\n",
    "\n",
    "listings = pd.read_csv('listings.csv')\n",
    "reviews = pd.read_csv('reviews.csv')\n",
    "# calendar = pd.read_csv('calendar.csv')\n",
    "neighborhoods = pd.read_csv('neighbourhoods.csv')\n",
    "\n",
    "calendar = pd.read_csv('calendar.csv')\n",
    "\n",
    "# Exploramos los datos\n",
    "print(\"listings\")\n",
    "print(listings.head())"
   ]
  },
  {
   "cell_type": "code",
   "execution_count": null,
   "id": "37eae732",
   "metadata": {},
   "outputs": [
    {
     "name": "stdout",
     "output_type": "stream",
     "text": [
      "   listing_id        date\n",
      "0       11508  2012-07-02\n",
      "1       11508  2012-12-26\n",
      "2       11508  2013-01-05\n",
      "3       11508  2013-07-28\n",
      "4       11508  2013-12-22\n"
     ]
    }
   ],
   "source": [
    "print(\"reviews\")\n",
    "print(reviews.head())"
   ]
  },
  {
   "cell_type": "code",
   "execution_count": null,
   "id": "da18454e",
   "metadata": {},
   "outputs": [
    {
     "name": "stdout",
     "output_type": "stream",
     "text": [
      "   neighbourhood_group neighbourhood\n",
      "0                  NaN     Agronomia\n",
      "1                  NaN       Almagro\n",
      "2                  NaN     Balvanera\n",
      "3                  NaN      Barracas\n",
      "4                  NaN      Belgrano\n"
     ]
    }
   ],
   "source": [
    "print(\"neighborhoods\")\n",
    "print(neighborhoods.head())"
   ]
  },
  {
   "cell_type": "code",
   "execution_count": null,
   "id": "afe66ece",
   "metadata": {},
   "outputs": [
    {
     "name": "stdout",
     "output_type": "stream",
     "text": [
      "calendar\n",
      "   listing_id        date available   price  adjusted_price  minimum_nights  \\\n",
      "0       11508  2025-01-30         f  $60.00             NaN             3.0   \n",
      "1       11508  2025-01-31         f  $60.00             NaN             3.0   \n",
      "2       11508  2025-02-01         f  $60.00             NaN             3.0   \n",
      "3       11508  2025-02-02         f  $60.00             NaN             3.0   \n",
      "4       11508  2025-02-03         f  $60.00             NaN             3.0   \n",
      "\n",
      "   maximum_nights currency_symbol  \n",
      "0          1125.0               $  \n",
      "1          1125.0               $  \n",
      "2          1125.0               $  \n",
      "3          1125.0               $  \n",
      "4          1125.0               $  \n",
      "         listing_id         price  adjusted_price  minimum_nights  \\\n",
      "count  1.283778e+07  1.283778e+07             0.0    1.283776e+07   \n",
      "mean   7.117867e+17  1.444410e+03             NaN    6.025412e+00   \n",
      "std    4.840909e+17  3.174754e+04             NaN    2.418471e+01   \n",
      "min    1.150800e+04  0.000000e+00             NaN    1.000000e+00   \n",
      "25%    4.719456e+07  3.000000e+01             NaN    2.000000e+00   \n",
      "50%    8.875646e+17  4.000000e+01             NaN    2.000000e+00   \n",
      "75%    1.095203e+18  6.100000e+01             NaN    4.000000e+00   \n",
      "max    1.344330e+18  4.500000e+06             NaN    1.000000e+03   \n",
      "\n",
      "       maximum_nights  \n",
      "count    1.283776e+07  \n",
      "mean     6.112193e+02  \n",
      "std      4.453138e+02  \n",
      "min      1.000000e+00  \n",
      "25%      3.650000e+02  \n",
      "50%      3.650000e+02  \n",
      "75%      1.125000e+03  \n",
      "max      1.825000e+03  \n"
     ]
    }
   ],
   "source": [
    "print(\"calendar\")\n",
    "print(calendar.head())\n",
    "\n",
    "# Extraemos el símbolo '$' a una nueva columna y convertimos el precio a float\n",
    "# Extract currency symbol if present, otherwise set to None\n",
    "calendar['currency_symbol'] = calendar['price'].str.extract(r'(\\$|€|£)')\n",
    "\n",
    "# Clean and convert price, handling different formats\n",
    "calendar['price'] = calendar['price'].str.replace(r'[$€£]', '', regex=True) \\\n",
    "                                   .str.replace(',', '') \\\n",
    "                                   .replace('', '0') \\\n",
    "                                   .astype(float)\n",
    "\n",
    "\n",
    "\n",
    "print(calendar.describe())"
   ]
  },
  {
   "cell_type": "code",
   "execution_count": 24,
   "id": "c29ca6fc",
   "metadata": {},
   "outputs": [
    {
     "name": "stdout",
     "output_type": "stream",
     "text": [
      "Valores únicos de price:\n",
      "78758112\n",
      "102702216\n"
     ]
    }
   ],
   "source": [
    "# Mostramos los valores únicos de price ordenados\n",
    "print(\"Valores únicos de price:\")\n",
    "# print(calendar['price'].sort_values().head(200000).tail(200))\n",
    "print(calendar[calendar['price'] >= 30].size)\n",
    "print(calendar.size)"
   ]
  }
 ],
 "metadata": {
  "kernelspec": {
   "display_name": "ia_env",
   "language": "python",
   "name": "python3"
  },
  "language_info": {
   "codemirror_mode": {
    "name": "ipython",
    "version": 3
   },
   "file_extension": ".py",
   "mimetype": "text/x-python",
   "name": "python",
   "nbconvert_exporter": "python",
   "pygments_lexer": "ipython3",
   "version": "3.12.10"
  }
 },
 "nbformat": 4,
 "nbformat_minor": 5
}
